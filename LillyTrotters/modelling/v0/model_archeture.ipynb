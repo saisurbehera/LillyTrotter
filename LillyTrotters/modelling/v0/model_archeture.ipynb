{
 "cells": [
  {
   "cell_type": "code",
   "execution_count": 2,
   "metadata": {},
   "outputs": [],
   "source": [
    "import torch\n",
    "import torch.nn as F"
   ]
  },
  {
   "cell_type": "code",
   "execution_count": 3,
   "metadata": {},
   "outputs": [],
   "source": [
    "rnn = F.LSTM(10, 20, 2)"
   ]
  },
  {
   "cell_type": "code",
   "execution_count": 4,
   "metadata": {},
   "outputs": [
    {
     "data": {
      "text/plain": [
       "LSTM(10, 20, num_layers=2)"
      ]
     },
     "execution_count": 4,
     "metadata": {},
     "output_type": "execute_result"
    }
   ],
   "source": [
    "rnn"
   ]
  },
  {
   "cell_type": "code",
   "execution_count": 5,
   "metadata": {},
   "outputs": [
    {
     "name": "stdout",
     "output_type": "stream",
     "text": [
      "Input shape: torch.Size([32, 500, 100])\n",
      "Output shape: torch.Size([32, 500, 10])\n"
     ]
    }
   ],
   "source": [
    "import torch\n",
    "import torch.nn as nn\n",
    "\n",
    "class SequentialLSTMModel(nn.Module):\n",
    "    def __init__(self, input_size, hidden_size, output_size, num_layers=1):\n",
    "        \"\"\"\n",
    "        Initialize the LSTM model that processes sequences of observations.\n",
    "        \n",
    "        Args:\n",
    "            input_size (int): Size of each input observation\n",
    "            hidden_size (int): Number of features in the hidden state\n",
    "            output_size (int): Size of output action space\n",
    "            num_layers (int): Number of LSTM layers\n",
    "        \"\"\"\n",
    "        super().__init__()\n",
    "        \n",
    "        self.hidden_size = hidden_size\n",
    "        \n",
    "        # Main LSTM layer to process sequences\n",
    "        self.lstm = nn.LSTM(\n",
    "            input_size=input_size,\n",
    "            hidden_size=hidden_size, \n",
    "            num_layers=num_layers,\n",
    "            batch_first=True  # Use (batch, seq, feature) format\n",
    "        )\n",
    "        \n",
    "        # Linear layer to project LSTM output to action logits\n",
    "        self.action_head = nn.Linear(hidden_size, output_size)\n",
    "        \n",
    "        # Initialize hidden state and cell state\n",
    "        self.hidden = None\n",
    "        self.cell = None\n",
    "        \n",
    "    def reset_states(self, batch_size=1, device='cpu'):\n",
    "        \"\"\"Reset the hidden and cell states\"\"\"\n",
    "        self.hidden = torch.zeros(1, batch_size, self.hidden_size).to(device)\n",
    "        self.cell = torch.zeros(1, batch_size, self.hidden_size).to(device)\n",
    "        \n",
    "    def forward(self, x):\n",
    "        \"\"\"\n",
    "        Forward pass through the network.\n",
    "        \n",
    "        Args:\n",
    "            x (torch.Tensor): Input tensor of shape (batch_size, seq_len, input_size)\n",
    "                            where seq_len=500 in your case\n",
    "        Returns:\n",
    "            outputs (torch.Tensor): Action logits for each timestep\n",
    "        \"\"\"\n",
    "        # Process the sequence through LSTM\n",
    "        lstm_out, (self.hidden, self.cell) = self.lstm(x, (self.hidden, self.cell))\n",
    "        \n",
    "        # Project LSTM outputs to action space for each timestep\n",
    "        action_logits = self.action_head(lstm_out)\n",
    "        \n",
    "        return action_logits\n",
    "\n",
    "# Example usage:\n",
    "if __name__ == \"__main__\":\n",
    "    # Example parameters\n",
    "    BATCH_SIZE = 32\n",
    "    SEQ_LENGTH = 500\n",
    "    INPUT_SIZE = 100  # Size of each observation\n",
    "    HIDDEN_SIZE = 512\n",
    "    OUTPUT_SIZE = 10  # Size of action space\n",
    "    \n",
    "    # Create model\n",
    "    model = SequentialLSTMModel(\n",
    "        input_size=INPUT_SIZE,\n",
    "        hidden_size=HIDDEN_SIZE,\n",
    "        output_size=OUTPUT_SIZE\n",
    "    )\n",
    "    \n",
    "    # Reset states for new sequence\n",
    "    model.reset_states(batch_size=BATCH_SIZE)\n",
    "    \n",
    "    # Example forward pass\n",
    "    dummy_input = torch.randn(BATCH_SIZE, SEQ_LENGTH, INPUT_SIZE)\n",
    "    outputs = model(dummy_input)\n",
    "    \n",
    "    print(f\"Input shape: {dummy_input.shape}\")\n",
    "    print(f\"Output shape: {outputs.shape}\")"
   ]
  },
  {
   "cell_type": "code",
   "execution_count": null,
   "metadata": {},
   "outputs": [],
   "source": []
  }
 ],
 "metadata": {
  "kernelspec": {
   "display_name": "base",
   "language": "python",
   "name": "python3"
  },
  "language_info": {
   "codemirror_mode": {
    "name": "ipython",
    "version": 3
   },
   "file_extension": ".py",
   "mimetype": "text/x-python",
   "name": "python",
   "nbconvert_exporter": "python",
   "pygments_lexer": "ipython3",
   "version": "3.12.2"
  }
 },
 "nbformat": 4,
 "nbformat_minor": 2
}
